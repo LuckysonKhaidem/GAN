{
 "cells": [
  {
   "cell_type": "code",
   "execution_count": 1,
   "metadata": {
    "collapsed": true
   },
   "outputs": [],
   "source": [
    "import numpy as np \n",
    "import tensorflow as tf \n",
    "from matplotlib import pyplot as plt\n",
    "import pandas as pd"
   ]
  },
  {
   "cell_type": "code",
   "execution_count": 2,
   "metadata": {
    "collapsed": true
   },
   "outputs": [],
   "source": [
    "np.random.seed(0)\n",
    "#Distribution of the training data\n",
    "class DataDistribution:\n",
    "    def __init__(self,mu, sigma):\n",
    "        self.mu = mu\n",
    "        self.sigma = sigma\n",
    "    def samples(self, N):\n",
    "        return np.random.normal(self.mu, self.sigma,N)"
   ]
  },
  {
   "cell_type": "code",
   "execution_count": 3,
   "metadata": {
    "collapsed": true
   },
   "outputs": [],
   "source": [
    "def plot_data_distribution():\n",
    "    distribution = DataDistribution(4,0.5)\n",
    "    samples = distribution.samples(1000)\n",
    "    samples = pd.Series(samples)\n",
    "    samples.plot(kind=\"density\")\n",
    "    plt.grid(True)\n",
    "    plt.show()"
   ]
  },
  {
   "cell_type": "code",
   "execution_count": 4,
   "metadata": {
    "collapsed": false
   },
   "outputs": [
    {
     "data": {
      "image/png": "[encoded data removed]",
      "text/plain": [
       "<matplotlib.figure.Figure at 0x116629090>"
      ]
     },
     "metadata": {},
     "output_type": "display_data"
    }
   ],
   "source": [
    "#Plots the density curve of the training data that the generator tries to estimate\n",
    "plot_data_distribution()"
   ]
  },
  {
   "cell_type": "code",
   "execution_count": 5,
   "metadata": {
    "collapsed": true
   },
   "outputs": [],
   "source": [
    "#Noisy signal which serves as an input to the generator\n",
    "class GeneratorNoiseDistribution:\n",
    "    def __init__(self,limit):\n",
    "        self.limit = limit\n",
    "    def sample_noise(self,N):\n",
    "        return np.linspace(-self.limit, self.limit,N) + np.random.random() * 0.005"
   ]
  },
  {
   "cell_type": "code",
   "execution_count": 6,
   "metadata": {
    "collapsed": true
   },
   "outputs": [],
   "source": [
    "def plot_noise_distribution():\n",
    "    distribution = GeneratorNoiseDistribution(4)\n",
    "    samples = distribution.sample_noise(1000)\n",
    "    samples = pd.Series(samples)\n",
    "    samples.plot(kind = \"density\")\n",
    "    plt.grid(True)\n",
    "    plt.show()"
   ]
  },
  {
   "cell_type": "code",
   "execution_count": 7,
   "metadata": {
    "collapsed": false
   },
   "outputs": [
    {
     "data": {
      "image/png": "[encoded data removed]",
      "text/plain": [
       "<matplotlib.figure.Figure at 0x116629750>"
      ]
     },
     "metadata": {},
     "output_type": "display_data"
    }
   ],
   "source": [
    "plot_noise_distribution()"
   ]
  },
  {
   "cell_type": "code",
   "execution_count": 8,
   "metadata": {
    "collapsed": true
   },
   "outputs": [],
   "source": [
    "class Model:\n",
    "    def __init__(self):\n",
    "        pass\n",
    "    def new_weights(self, shape, name):\n",
    "        return tf.Variable(tf.truncated_normal(shape, stddev = 0.05), name = name)\n",
    "    def new_biases(self, length, name):\n",
    "        return tf.Variable(tf.constant(0.5, shape = [length]), name = name)\n",
    "    def linear(self, data_input,weights, biases):\n",
    "        return tf.matmul(data_input, weights) + biases"
   ]
  },
  {
   "cell_type": "code",
   "execution_count": 9,
   "metadata": {
    "collapsed": true
   },
   "outputs": [],
   "source": [
    "class Generator(Model):\n",
    "    def __init__(self,num_input_neurons,num_hidden_neurons,num_output_neurons):\n",
    "       \n",
    "        self.num_input_neurons = num_input_neurons\n",
    "        self.num_hidden_neurons = num_hidden_neurons\n",
    "        self.num_output_neurons = num_output_neurons\n",
    "    def get_output(self,x):\n",
    "        w1 = self.new_weights([self.num_input_neurons,self.num_hidden_neurons],\"w1\")\n",
    "        b1 = self.new_biases(self.num_hidden_neurons,\"b1\")\n",
    "        w2 = self.new_weights([self.num_hidden_neurons, self.num_output_neurons],\"w2\")\n",
    "        b2 = self.new_biases(self.num_output_neurons,\"b2\")\n",
    "        \n",
    "        layer_1 = tf.nn.softplus(self.linear(x, w1, b1))\n",
    "        layer_2 = self.linear(layer_1,w2,b2)\n",
    "        return layer_2\n",
    "        \n",
    "        "
   ]
  },
  {
   "cell_type": "code",
   "execution_count": 10,
   "metadata": {
    "collapsed": true
   },
   "outputs": [],
   "source": [
    "class Discriminator(Model):\n",
    "    def __init__(self,num_input_neurons,num_hidden_neurons,num_output_neurons):\n",
    "        self.num_input_neurons = num_input_neurons\n",
    "        self.num_hidden_neurons = num_hidden_neurons\n",
    "        self.num_output_neurons = num_output_neurons\n",
    "    def get_output(self,x):\n",
    "        w1 = self.new_weights([self.num_input_neurons,self.num_hidden_neurons],\"w1\")\n",
    "        b1 = self.new_biases(self.num_hidden_neurons,\"b1\")\n",
    "        w2 = self.new_weights([self.num_hidden_neurons, self.num_hidden_neurons],\"w2\")\n",
    "        b2 = self.new_biases(self.num_hidden_neurons,\"b2\")\n",
    "        w3 = self.new_weights([self.num_hidden_neurons, self.num_hidden_neurons],\"w3\")\n",
    "        b3 = self.new_biases(self.num_hidden_neurons,\"b3\")\n",
    "        w4 = self.new_weights([self.num_hidden_neurons, self.num_output_neurons],\"w4\")\n",
    "        b4 = self.new_biases(self.num_output_neurons,\"b4\")\n",
    "        \n",
    "        \n",
    "        layer_1 = tf.nn.relu(self.linear(x, w1, b1))\n",
    "        layer_2 = tf.nn.relu(self.linear(layer_1,w2,b2))\n",
    "        layer_3 = tf.nn.relu(self.linear(layer_2,w3,b3))\n",
    "        layer_4 = tf.nn.sigmoid(self.linear(layer_3,w4,b4))\n",
    "        return layer_4"
   ]
  },
  {
   "cell_type": "code",
   "execution_count": 11,
   "metadata": {
    "collapsed": false
   },
   "outputs": [],
   "source": [
    "\n",
    "G = Generator(1,200,1)\n",
    "D = Discriminator(1,200,1)\n",
    "x_g = tf.placeholder(tf.float32, [None,1])\n",
    "x_d = tf.placeholder(tf.float32, [None,1])\n",
    "g_output = G.get_output(x_g)\n",
    "d_output_true = D.get_output(x_d)\n",
    "d_output_fake = D.get_output(g_output)\n",
    "loss_d = tf.reduce_mean(-tf.log(d_output_true) - tf.log(1 - d_output_fake))\n",
    "loss_g = tf.reduce_mean(-tf.log(d_output_fake))"
   ]
  },
  {
   "cell_type": "code",
   "execution_count": 12,
   "metadata": {
    "collapsed": false
   },
   "outputs": [],
   "source": [
    "train_d = tf.train.AdamOptimizer(0.001).minimize(loss_d)\n",
    "train_g = tf.train.AdamOptimizer(0.001).minimize(loss_g)"
   ]
  },
  {
   "cell_type": "code",
   "execution_count": 16,
   "metadata": {
    "collapsed": true
   },
   "outputs": [],
   "source": [
    "def gen_data_sample(batch_size):\n",
    "    return DataDistribution(4,0.5).samples(batch_size).reshape((-1,1))\n",
    "def get_noise_sample(batch_size):\n",
    "    return GeneratorNoiseDistribution(4).noise_sample(batch_size).reshape((-1,1))"
   ]
  },
  {
   "cell_type": "code",
   "execution_count": 17,
   "metadata": {
    "collapsed": true
   },
   "outputs": [],
   "source": [
    "epoch = 1000\n",
    "batch_size = 100\n",
    "session = tf.Session()\n",
    "def optimize(epoch, batch_size):\n",
    "    for i in xrange(epoch):\n",
    "        session.run(tf.global_variables_initializer())\n",
    "        d_input = gen_data_sample(batch_size)\n",
    "        z_noise = gen_noise_sample(batch_size)\n",
    "       \n",
    "        session.run(train_d, { x_d: d_input,\n",
    "                                   x_g: z_noise})\n",
    "        z_noise = gen_noise_sample(batch_size)\n",
    "        session.run(train_g, {x_g: z_noise})\n",
    "        loss_discriminator, loss_generator = session.run([loss_d, loss_g], {\n",
    "                                                x_d: d_input,\n",
    "                                                x_g: z_noise})\n",
    "        print \"Epoch: {},Discriminator Loss: {}, Generator Loss: {}\".format(i, loss_discriminator, loss_generator)"
   ]
  },
  {
   "cell_type": "code",
   "execution_count": 18,
   "metadata": {
    "collapsed": false
   },
   "outputs": [
    {
     "ename": "NameError",
     "evalue": "global name 'gen_noise_sample' is not defined",
     "output_type": "error",
     "traceback": [
      "\u001b[0;31m---------------------------------------------------------------------------\u001b[0m",
      "\u001b[0;31mNameError\u001b[0m                                 Traceback (most recent call last)",
      "\u001b[0;32m<ipython-input-18-af63381a94f4>\u001b[0m in \u001b[0;36m<module>\u001b[0;34m()\u001b[0m\n\u001b[0;32m----> 1\u001b[0;31m \u001b[0moptimize\u001b[0m\u001b[0;34m(\u001b[0m\u001b[0mepoch\u001b[0m\u001b[0;34m,\u001b[0m\u001b[0mbatch_size\u001b[0m\u001b[0;34m)\u001b[0m\u001b[0;34m\u001b[0m\u001b[0m\n\u001b[0m",
      "\u001b[0;32m<ipython-input-17-c663025af725>\u001b[0m in \u001b[0;36moptimize\u001b[0;34m(epoch, batch_size)\u001b[0m\n\u001b[1;32m      6\u001b[0m         \u001b[0msession\u001b[0m\u001b[0;34m.\u001b[0m\u001b[0mrun\u001b[0m\u001b[0;34m(\u001b[0m\u001b[0mtf\u001b[0m\u001b[0;34m.\u001b[0m\u001b[0mglobal_variables_initializer\u001b[0m\u001b[0;34m(\u001b[0m\u001b[0;34m)\u001b[0m\u001b[0;34m)\u001b[0m\u001b[0;34m\u001b[0m\u001b[0m\n\u001b[1;32m      7\u001b[0m         \u001b[0md_input\u001b[0m \u001b[0;34m=\u001b[0m \u001b[0mgen_data_sample\u001b[0m\u001b[0;34m(\u001b[0m\u001b[0mbatch_size\u001b[0m\u001b[0;34m)\u001b[0m\u001b[0;34m\u001b[0m\u001b[0m\n\u001b[0;32m----> 8\u001b[0;31m         \u001b[0mz_noise\u001b[0m \u001b[0;34m=\u001b[0m \u001b[0mgen_noise_sample\u001b[0m\u001b[0;34m(\u001b[0m\u001b[0mbatch_size\u001b[0m\u001b[0;34m)\u001b[0m\u001b[0;34m\u001b[0m\u001b[0m\n\u001b[0m\u001b[1;32m      9\u001b[0m \u001b[0;34m\u001b[0m\u001b[0m\n\u001b[1;32m     10\u001b[0m         session.run(train_d, { x_d: d_input,\n",
      "\u001b[0;31mNameError\u001b[0m: global name 'gen_noise_sample' is not defined"
     ]
    }
   ],
   "source": [
    "optimize(epoch,batch_size)"
   ]
  },
  {
   "cell_type": "code",
   "execution_count": 15,
   "metadata": {
    "collapsed": false
   },
   "outputs": [
    {
     "data": {
      "image/png": "[encoded data removed]",
      "text/plain": [
       "<matplotlib.figure.Figure at 0x126f08f10>"
      ]
     },
     "metadata": {},
     "output_type": "display_data"
    }
   ],
   "source": []
  },
  {
   "cell_type": "code",
   "execution_count": null,
   "metadata": {
    "collapsed": true
   },
   "outputs": [],
   "source": []
  }
 ],
 "metadata": {
  "kernelspec": {
   "display_name": "Python 2",
   "language": "python",
   "name": "python2"
  },
  "language_info": {
   "codemirror_mode": {
    "name": "ipython",
    "version": 2
   },
   "file_extension": ".py",
   "mimetype": "text/x-python",
   "name": "python",
   "nbconvert_exporter": "python",
   "pygments_lexer": "ipython2",
   "version": "2.7.13"
  }
 },
 "nbformat": 4,
 "nbformat_minor": 2
}

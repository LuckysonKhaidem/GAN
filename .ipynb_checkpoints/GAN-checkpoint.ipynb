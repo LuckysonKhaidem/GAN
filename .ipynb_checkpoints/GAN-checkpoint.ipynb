{
 "cells": [
  {
   "cell_type": "code",
   "execution_count": 1,
   "metadata": {
    "collapsed": true
   },
   "outputs": [],
   "source": [
    "import numpy as np \n",
    "import tensorflow as tf \n",
    "from matplotlib import pyplot as plt\n",
    "import pandas as pd"
   ]
  },
  {
   "cell_type": "code",
   "execution_count": 2,
   "metadata": {
    "collapsed": true
   },
   "outputs": [],
   "source": [
    "np.random.seed(0)\n",
    "tf.set_random_seed(0)\n",
    "#Distribution of the training data\n",
    "class DataDistribution:\n",
    "    def __init__(self,mu, sigma):\n",
    "        self.mu = mu\n",
    "        self.sigma = sigma\n",
    "    def samples(self, N):\n",
    "        return np.random.normal(self.mu, self.sigma,N)"
   ]
  },
  {
   "cell_type": "code",
   "execution_count": 3,
   "metadata": {
    "collapsed": true
   },
   "outputs": [],
   "source": [
    "def plot_data_distribution():\n",
    "    distribution = DataDistribution(4,0.5)\n",
    "    samples = distribution.samples(1000)\n",
    "    samples = pd.Series(samples)\n",
    "    samples.plot(kind=\"density\")\n",
    "    plt.grid(True)\n",
    "    plt.show()"
   ]
  },
  {
   "cell_type": "code",
   "execution_count": 4,
   "metadata": {},
   "outputs": [
    {
     "data": {
      "image/png": "[encoded data removed]",
      "text/plain": [
       "<matplotlib.figure.Figure at 0x39e1d50>"
      ]
     },
     "metadata": {},
     "output_type": "display_data"
    }
   ],
   "source": [
    "#Plots the density curve of the training data that the generator tries to estimate\n",
    "plot_data_distribution()"
   ]
  },
  {
   "cell_type": "code",
   "execution_count": 5,
   "metadata": {
    "collapsed": true
   },
   "outputs": [],
   "source": [
    "#Noisy signal which serves as an input to the generator\n",
    "class GeneratorNoiseDistribution:\n",
    "    def __init__(self,limit):\n",
    "        self.limit = limit\n",
    "    def sample_noise(self,N):\n",
    "        return np.linspace(-self.limit, self.limit,N) + np.random.random() * 0.001"
   ]
  },
  {
   "cell_type": "code",
   "execution_count": 6,
   "metadata": {
    "collapsed": true
   },
   "outputs": [],
   "source": [
    "def plot_noise_distribution():\n",
    "    distribution = GeneratorNoiseDistribution(8)\n",
    "    samples = distribution.sample_noise(1000)\n",
    "    samples = pd.Series(samples)\n",
    "    samples.plot(kind = \"density\")\n",
    "    plt.grid(True)\n",
    "    plt.show()"
   ]
  },
  {
   "cell_type": "code",
   "execution_count": 7,
   "metadata": {},
   "outputs": [
    {
     "data": {
      "image/png": "[encoded data removed]",
      "text/plain": [
       "<matplotlib.figure.Figure at 0x7539c50>"
      ]
     },
     "metadata": {},
     "output_type": "display_data"
    }
   ],
   "source": [
    "plot_noise_distribution()"
   ]
  },
  {
   "cell_type": "code",
   "execution_count": 8,
   "metadata": {
    "collapsed": true
   },
   "outputs": [],
   "source": [
    "class Model:\n",
    "    def __init__(self):\n",
    "        pass\n",
    "    def new_weights(self, shape, name):\n",
    "        return tf.Variable(tf.truncated_normal(shape, stddev = 1.5), name = name)\n",
    "    def new_biases(self, length, name):\n",
    "        return tf.Variable(tf.constant(0.0, shape = [length]), name = name)\n",
    "    def linear(self, data_input,weights, biases):\n",
    "        return tf.matmul(data_input, weights) + biases"
   ]
  },
  {
   "cell_type": "code",
   "execution_count": 9,
   "metadata": {
    "collapsed": true
   },
   "outputs": [],
   "source": [
    "class Generator(Model):\n",
    "    def __init__(self,num_input_neurons,num_hidden_neurons,num_output_neurons):\n",
    "        self.num_input_neurons = num_input_neurons\n",
    "        self.num_hidden_neurons = num_hidden_neurons\n",
    "        self.num_output_neurons = num_output_neurons\n",
    "    def get_output(self,x):\n",
    "        w1 = self.new_weights([self.num_input_neurons,self.num_hidden_neurons],\"w1\")\n",
    "        b1 = self.new_biases(self.num_hidden_neurons,\"b1\")\n",
    "        w2 = self.new_weights([self.num_hidden_neurons, self.num_output_neurons],\"w2\")\n",
    "        b2 = self.new_biases(self.num_output_neurons,\"b2\")   \n",
    "        layer_1 = tf.nn.softplus(self.linear(x, w1, b1))\n",
    "        layer_2 = self.linear(layer_1,w2,b2)\n",
    "        return layer_2              "
   ]
  },
  {
   "cell_type": "code",
   "execution_count": 10,
   "metadata": {
    "collapsed": true
   },
   "outputs": [],
   "source": [
    "class Discriminator(Model):\n",
    "    def __init__(self,num_input_neurons,num_hidden_neurons,num_output_neurons):\n",
    "        self.num_input_neurons = num_input_neurons\n",
    "        self.num_hidden_neurons = num_hidden_neurons\n",
    "        self.num_output_neurons = num_output_neurons\n",
    "    def get_output(self,x):\n",
    "        w1 = self.new_weights([self.num_input_neurons,self.num_hidden_neurons],\"w1\")\n",
    "        b1 = self.new_biases(self.num_hidden_neurons,\"b1\")\n",
    "        w2 = self.new_weights([self.num_hidden_neurons, self.num_hidden_neurons],\"w2\")\n",
    "        b2 = self.new_biases(self.num_hidden_neurons,\"b2\")\n",
    "        w3 = self.new_weights([self.num_hidden_neurons, self.num_hidden_neurons],\"w3\")\n",
    "        b3 = self.new_biases(self.num_hidden_neurons,\"b3\")\n",
    "        w4 = self.new_weights([self.num_hidden_neurons, self.num_output_neurons],\"w4\")\n",
    "        b4 = self.new_biases(self.num_output_neurons,\"b4\")\n",
    "        layer_1 = tf.nn.relu(self.linear(x, w1, b1))\n",
    "        layer_2 = tf.nn.relu(self.linear(layer_1,w2,b2))\n",
    "        layer_3 = tf.nn.relu(self.linear(layer_2,w3,b3))\n",
    "        layer_4 = tf.sigmoid(self.linear(layer_3,w4,b4))\n",
    "        return layer_4"
   ]
  },
  {
   "cell_type": "code",
   "execution_count": 11,
   "metadata": {
    "collapsed": true
   },
   "outputs": [],
   "source": [
    "def log(x):\n",
    "    return tf.log(tf.maximum(x,1e-5))"
   ]
  },
  {
   "cell_type": "code",
   "execution_count": 12,
   "metadata": {},
   "outputs": [],
   "source": [
    "G = Generator(1,8,1)\n",
    "D = Discriminator(1,8,1)\n",
    "x_d = tf.placeholder(tf.float32, [None,1])\n",
    "x_g = tf.placeholder(tf.float32, [None,1])\n",
    "g_output = G.get_output(x_g)\n",
    "d1 = D.get_output(x_d)\n",
    "d2 = D.get_output(g_output)\n",
    "loss_d = tf.reduce_mean(-log(d1) - (1 - d2))\n",
    "loss_g = tf.reduce_mean(-log(d2))"
   ]
  },
  {
   "cell_type": "code",
   "execution_count": 13,
   "metadata": {},
   "outputs": [],
   "source": [
    "initial_learning_rate = 0.05\n",
    "decay = 0.95\n",
    "num_decay_steps = 1000\n",
    "global_step = tf.Variable(0, trainable = True)\n",
    "learning_rate = tf.train.exponential_decay(initial_learning_rate,global_step,num_decay_steps, decay, staircase = True)\n",
    "train_d = tf.train.GradientDescentOptimizer(learning_rate).minimize(loss_d)\n",
    "train_g = tf.train.GradientDescentOptimizer(learning_rate).minimize(loss_g)"
   ]
  },
  {
   "cell_type": "code",
   "execution_count": 14,
   "metadata": {
    "collapsed": true
   },
   "outputs": [],
   "source": [
    "def gen_data_sample(batch_size):\n",
    "    return DataDistribution(4,0.5).samples(batch_size).reshape((-1,1))\n",
    "def gen_noise_sample(batch_size):\n",
    "    return GeneratorNoiseDistribution(8).sample_noise(batch_size).reshape((-1,1))"
   ]
  },
  {
   "cell_type": "code",
   "execution_count": 15,
   "metadata": {},
   "outputs": [],
   "source": [
    "epoch = 1000\n",
    "batch_size = 1000\n",
    "session = tf.Session()"
   ]
  },
  {
   "cell_type": "code",
   "execution_count": 16,
   "metadata": {
    "collapsed": true
   },
   "outputs": [],
   "source": [
    "def optimize(epoch, batch_size):\n",
    "    for i in xrange(epoch):\n",
    "        session.run(tf.global_variables_initializer())\n",
    "        d_input = gen_data_sample(batch_size)\n",
    "        z_noise = gen_noise_sample(batch_size)\n",
    "       \n",
    "        session.run(train_d, { x_d: d_input,\n",
    "                                   x_g: z_noise})\n",
    "        z_noise = gen_noise_sample(batch_size)\n",
    "        session.run(train_g, {x_g: z_noise})\n",
    "        loss_discriminator, loss_generator = session.run([loss_d, loss_g], {\n",
    "                                                x_d: d_input,\n",
    "                                                x_g: z_noise})\n",
    "        print \"Epoch: {},Discriminator Loss: {}, Generator Loss: {}\".format(i, loss_discriminator, loss_generator)\n",
    "        if loss_discriminator == 0 and loss_generator == 0:\n",
    "            break"
   ]
  },
  {
   "cell_type": "code",
   "execution_count": 17,
   "metadata": {},
   "outputs": [
    {
     "name": "stdout",
     "output_type": "stream",
     "text": [
      "Epoch: 0,Discriminator Loss: -2.06232070923e-05, Generator Loss: 2.0623419914e-05\n",
      "Epoch: 1,Discriminator Loss: 11.512925148, Generator Loss: -0.0\n",
      "Epoch: 2,Discriminator Loss: 10.512925148, Generator Loss: 11.512925148\n",
      "Epoch: 3,Discriminator Loss: -0.0, Generator Loss: -0.0\n"
     ]
    }
   ],
   "source": [
    "optimize(epoch,batch_size)"
   ]
  },
  {
   "cell_type": "code",
   "execution_count": 18,
   "metadata": {},
   "outputs": [],
   "source": [
    "def plot_result():\n",
    "    real_data = pd.Series(gen_data_sample(1000).ravel())\n",
    "    generated_data = pd.Series( session.run(g_output,{x_g: gen_noise_sample(1000)}).ravel())\n",
    "    real_data.plot(kind = \"density\", label = \"real data\")\n",
    "    generated_data.plot(kind = \"density\", label = \"generated data\")\n",
    "    plt.legend(loc = \"upper right\")\n",
    "    plt.show()"
   ]
  },
  {
   "cell_type": "code",
   "execution_count": 19,
   "metadata": {},
   "outputs": [
    {
     "data": {
      "image/png": "[encoded data removed]",
      "text/plain": [
       "<matplotlib.figure.Figure at 0x82f15d0>"
      ]
     },
     "metadata": {},
     "output_type": "display_data"
    }
   ],
   "source": [
    "plot_result()"
   ]
  },
  {
   "cell_type": "code",
   "execution_count": 20,
   "metadata": {
    "collapsed": true
   },
   "outputs": [],
   "source": [
    "session.close()"
   ]
  },
  {
   "cell_type": "code",
   "execution_count": null,
   "metadata": {
    "collapsed": true
   },
   "outputs": [],
   "source": []
  }
 ],
 "metadata": {
  "kernelspec": {
   "display_name": "Python 2",
   "language": "python",
   "name": "python2"
  },
  "language_info": {
   "codemirror_mode": {
    "name": "ipython",
    "version": 2
   },
   "file_extension": ".py",
   "mimetype": "text/x-python",
   "name": "python",
   "nbconvert_exporter": "python",
   "pygments_lexer": "ipython2",
   "version": "2.7.5"
  }
 },
 "nbformat": 4,
 "nbformat_minor": 2
}

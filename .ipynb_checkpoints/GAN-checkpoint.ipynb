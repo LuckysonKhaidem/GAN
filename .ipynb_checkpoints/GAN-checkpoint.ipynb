{
 "cells": [
  {
   "cell_type": "code",
   "execution_count": 1,
   "metadata": {
    "collapsed": true
   },
   "outputs": [],
   "source": [
    "'''\n",
    "    Title: Generative Adversarial Networks to approximate a 1D Gaussian Distribution\n",
    "    Author: Luckyson Khaidem\n",
    "    Date: 2017-07-31\n",
    "'''\n",
    "import numpy as np \n",
    "import tensorflow as tf \n",
    "from matplotlib import pyplot as plt\n",
    "import pandas as pd"
   ]
  },
  {
   "cell_type": "code",
   "execution_count": 2,
   "metadata": {
    "collapsed": true
   },
   "outputs": [],
   "source": [
    "np.random.seed(0)\n",
    "tf.set_random_seed(0)\n",
    "#Distribution of the training data\n",
    "class DataDistribution:\n",
    "    def __init__(self,mu, sigma):\n",
    "        self.mu = mu\n",
    "        self.sigma = sigma\n",
    "    def samples(self, N):\n",
    "        return np.random.normal(self.mu, self.sigma,N)"
   ]
  },
  {
   "cell_type": "code",
   "execution_count": 3,
   "metadata": {
    "collapsed": true
   },
   "outputs": [],
   "source": [
    "def plot_data_distribution():\n",
    "    distribution = DataDistribution(4,0.5)\n",
    "    samples = distribution.samples(1000)\n",
    "    samples = pd.Series(samples)\n",
    "    samples.plot(kind=\"density\")\n",
    "    plt.grid(True)\n",
    "    plt.show()"
   ]
  },
  {
   "cell_type": "code",
   "execution_count": 4,
   "metadata": {
    "collapsed": false
   },
   "outputs": [
    {
     "data": {
      "image/png": "[encoded data removed]",
      "text/plain": [
       "<matplotlib.figure.Figure at 0x109691d90>"
      ]
     },
     "metadata": {},
     "output_type": "display_data"
    }
   ],
   "source": [
    "#Plots the density curve of the training data that the generator tries to estimate\n",
    "plot_data_distribution()"
   ]
  },
  {
   "cell_type": "code",
   "execution_count": 5,
   "metadata": {
    "collapsed": true
   },
   "outputs": [],
   "source": [
    "#Noisy signal which serves as an input to the generator\n",
    "class GeneratorNoiseDistribution:\n",
    "    def __init__(self,limit):\n",
    "        self.limit = limit\n",
    "    def sample_noise(self,N):\n",
    "        return np.linspace(-self.limit, self.limit,N) + np.random.random() * 0.001"
   ]
  },
  {
   "cell_type": "code",
   "execution_count": 6,
   "metadata": {
    "collapsed": true
   },
   "outputs": [],
   "source": [
    "def plot_noise_distribution():\n",
    "    distribution = GeneratorNoiseDistribution(8)\n",
    "    samples = distribution.sample_noise(1000)\n",
    "    samples = pd.Series(samples)\n",
    "    samples.plot(kind = \"density\")\n",
    "    plt.grid(True)\n",
    "    plt.show()"
   ]
  },
  {
   "cell_type": "code",
   "execution_count": 7,
   "metadata": {
    "collapsed": false
   },
   "outputs": [
    {
     "data": {
      "image/png": "[encoded data removed]",
      "text/plain": [
       "<matplotlib.figure.Figure at 0x11ccad890>"
      ]
     },
     "metadata": {},
     "output_type": "display_data"
    }
   ],
   "source": [
    "#plots the distribution of the input to the generator\n",
    "plot_noise_distribution()"
   ]
  },
  {
   "cell_type": "code",
   "execution_count": 8,
   "metadata": {
    "collapsed": true
   },
   "outputs": [],
   "source": [
    "def generator(z, hidden_size, reuse = False):\n",
    "    if reuse:\n",
    "        tf.get_variable_scope().reuse_variables()\n",
    "    gw1 = tf.get_variable(\"gw1\",  [1, hidden_size], initializer=tf.truncated_normal_initializer(stddev=0.02))\n",
    "    gb1 = tf.get_variable(\"gb1\", [hidden_size], initializer = tf.constant_initializer(0.0))\n",
    "    g1 = tf.nn.softplus(tf.matmul(z,gw1) + gb1)\n",
    "    \n",
    "    gw2 = tf.get_variable(\"gw2\",  [hidden_size, 1], initializer = tf.truncated_normal_initializer(stddev = 1.0))\n",
    "    gb2 = tf.get_variable(\"gb2\",  [1], initializer = tf.constant_initializer(0.0))\n",
    "    g2 = tf.matmul(g1,gw2) + gb2\n",
    "    \n",
    "    return g2\n",
    "    "
   ]
  },
  {
   "cell_type": "code",
   "execution_count": 9,
   "metadata": {
    "collapsed": false
   },
   "outputs": [],
   "source": [
    "def discriminator(x, hidden_size, reuse = False):\n",
    "    if (reuse):\n",
    "        tf.get_variable_scope().reuse_variables()\n",
    "        \n",
    "    dw1 = tf.get_variable(\"dw1\", shape = [1, hidden_size], initializer = tf.truncated_normal_initializer(stddev = 1.0))\n",
    "    db1 = tf.get_variable(\"db1\", shape = [hidden_size], initializer = tf.constant_initializer(0.0))\n",
    "    d1 = tf.nn.relu(tf.matmul(x,dw1) + db1)\n",
    "    \n",
    "    dw2 = tf.get_variable(\"dw2\", shape = [hidden_size, hidden_size], initializer = tf.truncated_normal_initializer(stddev = 1.0))\n",
    "    db2 = tf.get_variable(\"db2\", shape = [hidden_size], initializer = tf.constant_initializer(0.0))\n",
    "    d2 = tf.nn.relu(tf.matmul(d1,dw2) + db2)\n",
    "    \n",
    "    dw3 = tf.get_variable(\"dw3\", shape = [hidden_size, hidden_size], initializer = tf.truncated_normal_initializer(stddev = 1.0))\n",
    "    db3 = tf.get_variable(\"db3\", shape = [hidden_size], initializer = tf.constant_initializer(0.0))\n",
    "    d3 = tf.nn.sigmoid(tf.matmul(d2,dw3) + db3)\n",
    "#     d3 = tf.contrib.layers.batch_norm(d2, epsilon=1e-4, scope='dn1')\n",
    "    \n",
    "    dw4 = tf.get_variable(\"dw4\", shape = [hidden_size, 1], initializer = tf.truncated_normal_initializer(stddev = 1.0))\n",
    "    db4 = tf.get_variable(\"db4\", shape = [1], initializer = tf.constant_initializer(0.0))\n",
    "    d4 = tf.nn.sigmoid(tf.matmul(d3,dw4) + db4)\n",
    "    \n",
    "    return d4"
   ]
  },
  {
   "cell_type": "code",
   "execution_count": 10,
   "metadata": {
    "collapsed": true
   },
   "outputs": [],
   "source": [
    "def log(x):\n",
    "    return tf.log(tf.maximum(x,1e-5))"
   ]
  },
  {
   "cell_type": "code",
   "execution_count": 11,
   "metadata": {
    "collapsed": false
   },
   "outputs": [],
   "source": [
    "x_d = tf.placeholder(tf.float32, [None,1])\n",
    "x_g = tf.placeholder(tf.float32, [None,1])\n",
    "with tf.variable_scope(\"generator\"):\n",
    "    g_output = generator(x_g, 8)\n",
    "with tf.variable_scope(\"discriminator\"):\n",
    "    d1 = discriminator(x_d,8)\n",
    "    d2 = discriminator(g_output,8, reuse = True)\n",
    "loss_d = tf.reduce_mean(-log(d1) - (log(1-d2)))\n",
    "loss_g = tf.reduce_mean(-log(d2))\n",
    "train_vars = tf.trainable_variables()\n",
    "d_vars = [var  for var in train_vars if var.name.startswith(\"d\")]\n",
    "g_vars = [var  for var in train_vars if var.name.startswith(\"g\")]"
   ]
  },
  {
   "cell_type": "code",
   "execution_count": 12,
   "metadata": {
    "collapsed": false
   },
   "outputs": [],
   "source": [
    "initial_learning_rate = 0.05\n",
    "decay = 0.95\n",
    "num_decay_steps = 1000\n",
    "global_step = tf.Variable(0, trainable = True)\n",
    "learning_rate = tf.train.exponential_decay(initial_learning_rate,global_step,num_decay_steps, decay, staircase = True)\n",
    "train_d = tf.train.AdamOptimizer(learning_rate).minimize(loss_d,var_list = d_vars)\n",
    "train_g = tf.train.AdamOptimizer(learning_rate).minimize(loss_g,var_list = g_vars)"
   ]
  },
  {
   "cell_type": "code",
   "execution_count": 13,
   "metadata": {
    "collapsed": true
   },
   "outputs": [],
   "source": [
    "def gen_data_sample(batch_size):\n",
    "    return DataDistribution(0,1).samples(batch_size).reshape((-1,1))\n",
    "def gen_noise_sample(batch_size):\n",
    "    return GeneratorNoiseDistribution(8).sample_noise(batch_size).reshape((-1,1))"
   ]
  },
  {
   "cell_type": "code",
   "execution_count": 14,
   "metadata": {
    "collapsed": true
   },
   "outputs": [],
   "source": [
    "epoch = 2000\n",
    "batch_size = 8\n",
    "session = tf.Session()"
   ]
  },
  {
   "cell_type": "code",
   "execution_count": 15,
   "metadata": {
    "collapsed": false
   },
   "outputs": [],
   "source": [
    "def optimize(epoch, batch_size):\n",
    "    for i in xrange(epoch):\n",
    "        session.run(tf.global_variables_initializer())\n",
    "        d_input = gen_data_sample(batch_size)\n",
    "        z_noise = gen_noise_sample(batch_size)\n",
    "       \n",
    "        session.run(train_d, { x_d: d_input,\n",
    "                                   x_g: z_noise})\n",
    "        z_noise = gen_noise_sample(batch_size)\n",
    "        session.run(train_g, {x_g: z_noise})\n",
    "        loss_discriminator, loss_generator = session.run([loss_d, loss_g], {\n",
    "                                                x_d: d_input,\n",
    "                                                x_g: z_noise})\n",
    "        if i % 100 == 0:\n",
    "            print \"Step: {},Discriminator Loss: {}, Generator Loss: {}\".format(i, loss_discriminator, loss_generator)\n",
    "       "
   ]
  },
  {
   "cell_type": "code",
   "execution_count": 16,
   "metadata": {
    "collapsed": false
   },
   "outputs": [
    {
     "name": "stdout",
     "output_type": "stream",
     "text": [
      "Step: 0,Discriminator Loss: 1.13721132278, Generator Loss: 1.03209447861\n",
      "Step: 100,Discriminator Loss: 1.0724568367, Generator Loss: 0.554347872734\n",
      "Step: 200,Discriminator Loss: 1.69177961349, Generator Loss: 1.05739331245\n",
      "Step: 300,Discriminator Loss: 1.42451822758, Generator Loss: 0.507444262505\n",
      "Step: 400,Discriminator Loss: 1.48493397236, Generator Loss: 0.746335625648\n",
      "Step: 500,Discriminator Loss: 1.66116988659, Generator Loss: 0.301509350538\n",
      "Step: 600,Discriminator Loss: 0.873716950417, Generator Loss: 1.06245613098\n",
      "Step: 700,Discriminator Loss: 0.990157008171, Generator Loss: 1.68013882637\n",
      "Step: 800,Discriminator Loss: 1.21943676472, Generator Loss: 1.08295965195\n",
      "Step: 900,Discriminator Loss: 1.47346496582, Generator Loss: 0.584203124046\n",
      "Step: 1000,Discriminator Loss: 1.5536403656, Generator Loss: 0.551375091076\n",
      "Step: 1100,Discriminator Loss: 1.76155638695, Generator Loss: 0.37454816699\n",
      "Step: 1200,Discriminator Loss: 1.44834518433, Generator Loss: 0.722487211227\n",
      "Step: 1300,Discriminator Loss: 1.34387016296, Generator Loss: 1.3204023838\n",
      "Step: 1400,Discriminator Loss: 0.999161422253, Generator Loss: 0.832832932472\n",
      "Step: 1500,Discriminator Loss: 1.24353957176, Generator Loss: 0.495811522007\n",
      "Step: 1600,Discriminator Loss: 1.27333152294, Generator Loss: 1.18561375141\n",
      "Step: 1700,Discriminator Loss: 1.98214769363, Generator Loss: 0.420607239008\n",
      "Step: 1800,Discriminator Loss: 1.72367763519, Generator Loss: 1.16110539436\n",
      "Step: 1900,Discriminator Loss: 1.68443310261, Generator Loss: 1.6926817894\n"
     ]
    }
   ],
   "source": [
    "optimize(epoch,batch_size)"
   ]
  },
  {
   "cell_type": "code",
   "execution_count": 17,
   "metadata": {
    "collapsed": true
   },
   "outputs": [],
   "source": [
    "def plot_result():\n",
    "    real_data = pd.Series(gen_data_sample(1000).ravel())\n",
    "    generated_data = pd.Series( session.run(g_output,{x_g: gen_noise_sample(1000)}).ravel())\n",
    "    real_data.plot(kind = \"density\", label = \"real data\")\n",
    "    generated_data.plot(kind = \"density\", label = \"generated data\")\n",
    "    noise = pd.Series(gen_noise_sample(1000).ravel())\n",
    "    noise.plot(kind = \"density\", label = \"input noise\")\n",
    "    plt.legend(loc = \"upper right\")\n",
    "    plt.show()"
   ]
  },
  {
   "cell_type": "code",
   "execution_count": 18,
   "metadata": {
    "collapsed": false
   },
   "outputs": [
    {
     "data": {
      "image/png": "[encoded data removed]",
      "text/plain": [
       "<matplotlib.figure.Figure at 0x11d261910>"
      ]
     },
     "metadata": {},
     "output_type": "display_data"
    }
   ],
   "source": [
    "plot_result()"
   ]
  },
  {
   "cell_type": "code",
   "execution_count": 19,
   "metadata": {
    "collapsed": true
   },
   "outputs": [],
   "source": [
    "session.close()"
   ]
  },
  {
   "cell_type": "code",
   "execution_count": null,
   "metadata": {
    "collapsed": true
   },
   "outputs": [],
   "source": []
  }
 ],
 "metadata": {
  "kernelspec": {
   "display_name": "Python 2",
   "language": "python",
   "name": "python2"
  },
  "language_info": {
   "codemirror_mode": {
    "name": "ipython",
    "version": 2
   },
   "file_extension": ".py",
   "mimetype": "text/x-python",
   "name": "python",
   "nbconvert_exporter": "python",
   "pygments_lexer": "ipython2",
   "version": "2.7.13"
  }
 },
 "nbformat": 4,
 "nbformat_minor": 2
}
